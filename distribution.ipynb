{
  "nbformat": 4,
  "nbformat_minor": 0,
  "metadata": {
    "colab": {
      "name": "distribution.ipynb",
      "provenance": [],
      "authorship_tag": "ABX9TyOLhEm4gf2uclFoOwlmg7ns",
      "include_colab_link": true
    },
    "kernelspec": {
      "name": "python3",
      "display_name": "Python 3"
    }
  },
  "cells": [
    {
      "cell_type": "markdown",
      "metadata": {
        "id": "view-in-github",
        "colab_type": "text"
      },
      "source": [
        "<a href=\"https://colab.research.google.com/github/rmarsenault02/Data-Visualization-/blob/main/distribution.ipynb\" target=\"_parent\"><img src=\"https://colab.research.google.com/assets/colab-badge.svg\" alt=\"Open In Colab\"/></a>"
      ]
    },
    {
      "cell_type": "code",
      "metadata": {
        "id": "VOZ5qJAOiYGI"
      },
      "source": [
        "import numpy as np                # math operations\n",
        "import pandas as pd               # data science indexing \n",
        "import matplotlib.pyplot as plt   # data visualizations\n",
        "import statistics                 # high level data science math\n",
        "import scipy.stats as stats       # stats and math \n",
        "import seaborn as sns\n",
        "\n",
        "%matplotlib inline"
      ],
      "execution_count": 5,
      "outputs": []
    },
    {
      "cell_type": "code",
      "metadata": {
        "id": "0o1CEFfcnMRO"
      },
      "source": [
        "Mean = 0\n",
        "Sd = 1 \n",
        "Samples = 20000"
      ],
      "execution_count": 6,
      "outputs": []
    },
    {
      "cell_type": "code",
      "metadata": {
        "colab": {
          "base_uri": "https://localhost:8080/",
          "height": 314
        },
        "id": "5G9T1_E8qU32",
        "outputId": "b4592ee8-4dc4-4309-b86d-1aa535b6c5fe"
      },
      "source": [
        "Dist = pd.DataFrame({'random numbers': np.random.normal(Mean,Sd,Samples)})\n",
        "#show a histogram\n",
        "Dist.hist()"
      ],
      "execution_count": 8,
      "outputs": [
        {
          "output_type": "execute_result",
          "data": {
            "text/plain": [
              "array([[<matplotlib.axes._subplots.AxesSubplot object at 0x7ff0a3fc0240>]],\n",
              "      dtype=object)"
            ]
          },
          "metadata": {
            "tags": []
          },
          "execution_count": 8
        },
        {
          "output_type": "display_data",
          "data": {
            "image/png": "[encoded data removed]",
            "text/plain": [
              "<Figure size 432x288 with 1 Axes>"
            ]
          },
          "metadata": {
            "tags": [],
            "needs_background": "light"
          }
        }
      ]
    },
    {
      "cell_type": "code",
      "metadata": {
        "id": "hvbAaKOBu7Ao"
      },
      "source": [
        "np.random.seed(4) # Gives us a random number and 4 semms to give the best distribution example\n",
        "values = list(np.random.normal(loc=100,scale=20,size=1300)) #loc is number of values, scale= reflects the size, size reflects the bins\n",
        "\n"
      ],
      "execution_count": 11,
      "outputs": []
    },
    {
      "cell_type": "code",
      "metadata": {
        "colab": {
          "base_uri": "https://localhost:8080/",
          "height": 432
        },
        "id": "bLpqcVRRv5YA",
        "outputId": "212a9cca-c2fb-4cb3-a7bd-80171443f356"
      },
      "source": [
        "sns.displot(values, kde= False, color='red')\n",
        "plt.title(\"Normal Distribution\", fontsize=20,y=1.012)\n",
        "plt.xlabel( \" X axis\",labelpad=15)\n",
        "plt.ylabel(\" y label\",labelpad=15)"
      ],
      "execution_count": 15,
      "outputs": [
        {
          "output_type": "execute_result",
          "data": {
            "text/plain": [
              "Text(3.674999999999997, 0.5, ' y label')"
            ]
          },
          "metadata": {
            "tags": []
          },
          "execution_count": 15
        },
        {
          "output_type": "display_data",
          "data": {
            "image/png": "[encoded data removed]",
            "text/plain": [
              "<Figure size 360x360 with 1 Axes>"
            ]
          },
          "metadata": {
            "tags": [],
            "needs_background": "light"
          }
        }
      ]
    }
  ]
}